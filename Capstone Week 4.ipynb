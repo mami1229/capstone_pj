{
    "cells": [
        {
            "metadata": {
                "collapsed": true
            },
            "cell_type": "markdown",
            "source": "# Capstone Week 4\n\n# The Best Location To Open A New Ramen Shop In New York City.\n\n# 1. Introduction\n\n## New York City has is the place where is high competition for restaurant businesses.  Every year, new restaurants open, and many restaurants cannot survive the competition and close down for good.  One factor of the successful restaurant business is the location.  Even though the restaurant has an excellent chef and serves excellent food, if the accessibility was good enough, it cannot build enough positive reviews to attract more people to come.  Hence, the location of the restaurant business is a critical issue to be a successful restaurant.This project defines the best location to open a new restaurant in New York City by using FourSquare geographical data.  I start by defining what factors would make the best location for the ramen shop.  In general, less competition has more opportunities to be successful. In terms of accessibility, the safe neighbourhood is more comfortable for customers to visit the restaurant. \n\n# 2. Dataset\n\n## *FourSquare API data is used to identify the low number of restaurant/ramen shops in the neighborhood.\n## *NYPD Complaint Data Historical to find the small number of crimes in the area.\n\n# 3. Methodology\n\n## It starts with visualizing the low crime rate in each neighborhood in New York City by using NYPD Complaint Data. The number of restaurants and ramen shops in the area is visualized on a map as well. Then, merge the datasets based on longitude and latitude, apply cluster analysis for the new dataset to identify the best location for the ramen shop in New York City.\u00b6\n\n# Reference\n\nNYPD Complaint Data Historical,  retrieved from:\nhttps://data.cityofnewyork.us/Public-Safety/NYPD-Complaint-Data-Historic/qgea-i56i\n\n\n"
        },
        {
            "metadata": {},
            "cell_type": "code",
            "source": "",
            "execution_count": null,
            "outputs": []
        }
    ],
    "metadata": {
        "kernelspec": {
            "name": "python3",
            "display_name": "Python 3.6",
            "language": "python"
        },
        "language_info": {
            "name": "python",
            "version": "3.6.9",
            "mimetype": "text/x-python",
            "codemirror_mode": {
                "name": "ipython",
                "version": 3
            },
            "pygments_lexer": "ipython3",
            "nbconvert_exporter": "python",
            "file_extension": ".py"
        }
    },
    "nbformat": 4,
    "nbformat_minor": 1
}