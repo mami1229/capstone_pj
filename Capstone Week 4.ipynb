{
    "cells": [
        {
            "metadata": {
                "collapsed": true
            },
            "cell_type": "markdown",
            "source": "# Capstone Week 4\n\n# The Best Location To Open A New Ramen Shop In New York City.\n\n##  New York City has is the place where is the high competition for restaraunt businesses.  Every year, new reastaurants open and many restaurants cannot survive the competition, and close down for good. One of factor od the successful restaurant business is the location. Eventhough the restaurant has a good chef and serve great food, if the accessibility was good enough, it cannot build enough positive reviews to attract more people to come. Hence, the location of the restraunt business is the critical issue to be a successful restaurant. \n\n\n##  This project defines the best location to open a new restaurant in New York City by using FourSquare geographical data. First, I start with defining what factors would make the best location for the ramen shop. "
        },
        {
            "metadata": {},
            "cell_type": "code",
            "source": "",
            "execution_count": null,
            "outputs": []
        }
    ],
    "metadata": {
        "kernelspec": {
            "name": "python3",
            "display_name": "Python 3.6",
            "language": "python"
        },
        "language_info": {
            "name": "python",
            "version": "3.6.9",
            "mimetype": "text/x-python",
            "codemirror_mode": {
                "name": "ipython",
                "version": 3
            },
            "pygments_lexer": "ipython3",
            "nbconvert_exporter": "python",
            "file_extension": ".py"
        }
    },
    "nbformat": 4,
    "nbformat_minor": 1
}